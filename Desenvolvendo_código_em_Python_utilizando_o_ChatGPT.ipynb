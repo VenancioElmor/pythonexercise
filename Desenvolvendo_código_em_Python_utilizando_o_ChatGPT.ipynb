{
  "nbformat": 4,
  "nbformat_minor": 0,
  "metadata": {
    "colab": {
      "provenance": []
    },
    "kernelspec": {
      "name": "python3",
      "display_name": "Python 3"
    },
    "language_info": {
      "name": "python"
    }
  },
  "cells": [
    {
      "cell_type": "markdown",
      "source": [
        "1 - Preciso que cria uma função utilizando a linguagem Python, essa função tem que ser capaz de utilizar a API do Yahoo Finance para baixar os dados diários de ações da Petrobras de código \"PETR4\". Preciso também que ao baixar esses dados o código salve as informações em um arquivo .csv\n",
        "Lembrando que estou compilando no Google Colab."
      ],
      "metadata": {
        "id": "Mnp7HjJ6lQa7"
      }
    },
    {
      "cell_type": "code",
      "source": [
        "import yfinance as yf\n",
        "import pandas as pd\n",
        "from google.colab import files\n",
        "\n",
        "def baixar_dados_petrobras():\n",
        "    # Definir o código da ação e o período desejado\n",
        "    codigo_acao = 'PETR4.SA'\n",
        "    periodo = '1d'  # Diário\n",
        "    \n",
        "    # Baixar os dados da ação\n",
        "    petrobras = yf.download(codigo_acao, period=periodo)\n",
        "    \n",
        "    # Salvar os dados em um arquivo CSV\n",
        "    petrobras.to_csv('dados_petrobras.csv', sep=',')\n",
        "\n",
        "    # Fazer o download do arquivo CSV\n",
        "    files.download('dados_petrobras.csv')\n",
        "\n",
        "# Chamar a função para baixar os dados e salvar o arquivo CSV\n",
        "baixar_dados_petrobras()"
      ],
      "metadata": {
        "colab": {
          "base_uri": "https://localhost:8080/",
          "height": 34
        },
        "id": "UFbJ1qowlbhi",
        "outputId": "d073891f-623e-4de5-e585-1936db9ea72f"
      },
      "execution_count": 7,
      "outputs": [
        {
          "output_type": "stream",
          "name": "stdout",
          "text": [
            "\r[*********************100%***********************]  1 of 1 completed\n"
          ]
        },
        {
          "output_type": "display_data",
          "data": {
            "text/plain": [
              "<IPython.core.display.Javascript object>"
            ],
            "application/javascript": [
              "\n",
              "    async function download(id, filename, size) {\n",
              "      if (!google.colab.kernel.accessAllowed) {\n",
              "        return;\n",
              "      }\n",
              "      const div = document.createElement('div');\n",
              "      const label = document.createElement('label');\n",
              "      label.textContent = `Downloading \"${filename}\": `;\n",
              "      div.appendChild(label);\n",
              "      const progress = document.createElement('progress');\n",
              "      progress.max = size;\n",
              "      div.appendChild(progress);\n",
              "      document.body.appendChild(div);\n",
              "\n",
              "      const buffers = [];\n",
              "      let downloaded = 0;\n",
              "\n",
              "      const channel = await google.colab.kernel.comms.open(id);\n",
              "      // Send a message to notify the kernel that we're ready.\n",
              "      channel.send({})\n",
              "\n",
              "      for await (const message of channel.messages) {\n",
              "        // Send a message to notify the kernel that we're ready.\n",
              "        channel.send({})\n",
              "        if (message.buffers) {\n",
              "          for (const buffer of message.buffers) {\n",
              "            buffers.push(buffer);\n",
              "            downloaded += buffer.byteLength;\n",
              "            progress.value = downloaded;\n",
              "          }\n",
              "        }\n",
              "      }\n",
              "      const blob = new Blob(buffers, {type: 'application/binary'});\n",
              "      const a = document.createElement('a');\n",
              "      a.href = window.URL.createObjectURL(blob);\n",
              "      a.download = filename;\n",
              "      div.appendChild(a);\n",
              "      a.click();\n",
              "      div.remove();\n",
              "    }\n",
              "  "
            ]
          },
          "metadata": {}
        },
        {
          "output_type": "display_data",
          "data": {
            "text/plain": [
              "<IPython.core.display.Javascript object>"
            ],
            "application/javascript": [
              "download(\"download_43150e3a-c58c-4491-92a1-05b267b4c9a1\", \"dados_petrobras.csv\", 157)"
            ]
          },
          "metadata": {}
        }
      ]
    },
    {
      "cell_type": "markdown",
      "source": [
        "2 - Preciso que crie uma função em Python que consiga receber um nome de arquivo .csv, quando o usuário selecionar o arquivo o código precisar ser capaz de carregar o conteúdo do arquivo e retornar um dataframe contendo o valor do arquivo. A partir dessa função, carregue o conteúdo do arquivo .csv da questão 1 (acima) e imprima o conteúdo das últimas 10 linhas.\n",
        "Lembrando que estou compilando no Google Colab."
      ],
      "metadata": {
        "id": "uSGrr6irlhrC"
      }
    },
    {
      "cell_type": "code",
      "source": [
        "import pandas as pd\n",
        "from google.colab import files\n",
        "\n",
        "def carregar_arquivo_csv():\n",
        "    # Fazer o upload do arquivo CSV\n",
        "    arquivo = files.upload()\n",
        "\n",
        "    # Carregar o conteúdo do arquivo CSV em um DataFrame\n",
        "    nome_arquivo = list(arquivo.keys())[0]\n",
        "    dataframe = pd.read_csv(nome_arquivo)\n",
        "    return dataframe\n",
        "\n",
        "# Carregar o conteúdo do arquivo CSV\n",
        "dados_petrobras = carregar_arquivo_csv()\n",
        "\n",
        "# Imprimir as últimas 10 linhas do DataFrame\n",
        "ultimas_10_linhas = dados_petrobras.tail(10)\n",
        "print(ultimas_10_linhas)"
      ],
      "metadata": {
        "id": "nTZQaXB7mSRR"
      },
      "execution_count": null,
      "outputs": []
    },
    {
      "cell_type": "markdown",
      "source": [
        " 3- Crie uma função que receba como entrada (parâmetros) um dataframe e o nome de uma de suas colunas, preciso também que retorne a média e o desvio padrão dos valores contidos na coluna, cujo nome foi recebido como parâmetro.\n",
        " Lembrando que estou compilando no Google Colab."
      ],
      "metadata": {
        "id": "DHaQPIu4unyS"
      }
    },
    {
      "cell_type": "code",
      "source": [
        "import pandas as pd\n",
        "\n",
        "def calcular_estatisticas(dataframe, nome_coluna):\n",
        "    # Verificar se a coluna existe no DataFrame\n",
        "    if nome_coluna not in dataframe.columns:\n",
        "        print(f\"A coluna '{nome_coluna}' não existe no DataFrame.\")\n",
        "        return None\n",
        "    \n",
        "    # Calcular a média e o desvio padrão da coluna\n",
        "    coluna = dataframe[nome_coluna]\n",
        "    media = coluna.mean()\n",
        "    desvio_padrao = coluna.std()\n",
        "    \n",
        "    return media, desvio_padrao\n",
        "\n",
        "# Exemplo de uso da função\n",
        "dataframe_exemplo = pd.DataFrame({'A': [1, 2, 3, 4, 5], 'B': [10, 20, 30, 40, 50]})\n",
        "nome_coluna_exemplo = 'B'\n",
        "\n",
        "media, desvio_padrao = calcular_estatisticas(dataframe_exemplo, nome_coluna_exemplo)\n",
        "print(f\"Média: {media}\")\n",
        "print(f\"Desvio Padrão: {desvio_padrao}\")"
      ],
      "metadata": {
        "id": "driT1H5Auqyp"
      },
      "execution_count": null,
      "outputs": []
    },
    {
      "cell_type": "markdown",
      "source": [
        "4 - Agora será necessário criar uma função que receba como entrada (parâmetros) um dataframe onde cada coluna possua uma série de números. A função deve receber também o nome de uma das colunas e deve retornar um dataframe resultante, a partir do dataframe de entrada, onde as linhas foram ordenadas em ordem crescente pelos números da coluna, cujo nome foi recebido como parâmetro.\n",
        "Lembrando que estou compilando no Google Colab."
      ],
      "metadata": {
        "id": "HqhMGBYdzFLi"
      }
    },
    {
      "cell_type": "code",
      "source": [
        "import pandas as pd\n",
        "from google.colab import files\n",
        "\n",
        "def ordenar_dataframe(dataframe, Date):\n",
        "    # Verificar se a coluna existe no DataFrame\n",
        "    if Date not in dataframe.columns:\n",
        "        print(f\"A coluna '{Date}' não existe no DataFrame.\")\n",
        "        return None\n",
        "    \n",
        "    # Ordenar o DataFrame com base na coluna especificada\n",
        "    dataframe_ordenado = dataframe.sort_values(by=Date)\n",
        "    \n",
        "    return dataframe_ordenado\n",
        "\n",
        "# Fazer o upload do arquivo CSV\n",
        "arquivo = files.upload()\n",
        "\n",
        "# Carregar o conteúdo do arquivo CSV em um DataFrame\n",
        "nome_arquivo = list(arquivo.keys())[0]\n",
        "dataframe = pd.read_csv(nome_arquivo)\n",
        "\n",
        "# Nome da coluna para ordenação\n",
        "Date = 'Date'\n",
        "\n",
        "# Ordenar o DataFrame com base na coluna especificada\n",
        "dataframe_ordenado = ordenar_dataframe(dataframe, Date)\n",
        "\n",
        "# Imprimir o DataFrame ordenado\n",
        "print(dataframe_ordenado)"
      ],
      "metadata": {
        "id": "J3eM1E3A0B4A"
      },
      "execution_count": null,
      "outputs": []
    },
    {
      "cell_type": "markdown",
      "source": [
        "Preciso que crie uma função em python que receba um arquivo .csv, com isso, crie um banco de dados de nome padrão com ajuda do sqlite. Após, crie uma tabela contendo os dados do dataframe mantendo os nomes das colunas, e salve o banco de dados num arquivo de saída.\n",
        "Lembrando que estou compilando no Google Colab."
      ],
      "metadata": {
        "id": "S8N3_INw0xwW"
      }
    },
    {
      "cell_type": "code",
      "source": [
        "import sqlite3\n",
        "import pandas as pd\n",
        "from google.colab import files\n",
        "\n",
        "def criar_banco_dados_csv(nome_arquivo_csv, nome_banco_dados, nome_arquivo_saida):\n",
        "    # Fazer o upload do arquivo CSV\n",
        "    arquivo = files.upload()\n",
        "\n",
        "    # Carregar o conteúdo do arquivo CSV em um DataFrame\n",
        "    nome_arquivo = list(arquivo.keys())[0]\n",
        "    dataframe = pd.read_csv(nome_arquivo)\n",
        "\n",
        "    # Criar uma conexão com o banco de dados\n",
        "    conexao = sqlite3.connect(nome_banco_dados)\n",
        "\n",
        "    # Salvar o DataFrame como uma tabela no banco de dados\n",
        "    dataframe.to_sql('tabela_dados', conexao, if_exists='replace', index=False)\n",
        "\n",
        "    # Fechar a conexão com o banco de dados\n",
        "    conexao.close()\n",
        "\n",
        "    # Salvar o banco de dados em um arquivo de saída\n",
        "    files.download(nome_banco_dados)\n",
        "\n",
        "# Nome do arquivo CSV de entrada\n",
        "nome_arquivo_csv = 'dados_petrobras.csv'\n",
        "\n",
        "# Nome do banco de dados de saída\n",
        "nome_banco_dados = 'sqlite'\n",
        "\n",
        "# Nome do arquivo de saída\n",
        "nome_arquivo_saida = 'dados_saida'\n",
        "\n",
        "# Criar o banco de dados a partir do arquivo CSV\n",
        "criar_banco_dados_csv(nome_arquivo_csv, nome_banco_dados, nome_arquivo_saida)"
      ],
      "metadata": {
        "colab": {
          "base_uri": "https://localhost:8080/",
          "height": 73
        },
        "id": "XcIKgdpQ1l1c",
        "outputId": "09a10a77-cb53-4b8c-9278-b288576d67d2"
      },
      "execution_count": 16,
      "outputs": [
        {
          "output_type": "display_data",
          "data": {
            "text/plain": [
              "<IPython.core.display.HTML object>"
            ],
            "text/html": [
              "\n",
              "     <input type=\"file\" id=\"files-1ac6721d-af34-4c99-8628-41c86736183a\" name=\"files[]\" multiple disabled\n",
              "        style=\"border:none\" />\n",
              "     <output id=\"result-1ac6721d-af34-4c99-8628-41c86736183a\">\n",
              "      Upload widget is only available when the cell has been executed in the\n",
              "      current browser session. Please rerun this cell to enable.\n",
              "      </output>\n",
              "      <script>// Copyright 2017 Google LLC\n",
              "//\n",
              "// Licensed under the Apache License, Version 2.0 (the \"License\");\n",
              "// you may not use this file except in compliance with the License.\n",
              "// You may obtain a copy of the License at\n",
              "//\n",
              "//      http://www.apache.org/licenses/LICENSE-2.0\n",
              "//\n",
              "// Unless required by applicable law or agreed to in writing, software\n",
              "// distributed under the License is distributed on an \"AS IS\" BASIS,\n",
              "// WITHOUT WARRANTIES OR CONDITIONS OF ANY KIND, either express or implied.\n",
              "// See the License for the specific language governing permissions and\n",
              "// limitations under the License.\n",
              "\n",
              "/**\n",
              " * @fileoverview Helpers for google.colab Python module.\n",
              " */\n",
              "(function(scope) {\n",
              "function span(text, styleAttributes = {}) {\n",
              "  const element = document.createElement('span');\n",
              "  element.textContent = text;\n",
              "  for (const key of Object.keys(styleAttributes)) {\n",
              "    element.style[key] = styleAttributes[key];\n",
              "  }\n",
              "  return element;\n",
              "}\n",
              "\n",
              "// Max number of bytes which will be uploaded at a time.\n",
              "const MAX_PAYLOAD_SIZE = 100 * 1024;\n",
              "\n",
              "function _uploadFiles(inputId, outputId) {\n",
              "  const steps = uploadFilesStep(inputId, outputId);\n",
              "  const outputElement = document.getElementById(outputId);\n",
              "  // Cache steps on the outputElement to make it available for the next call\n",
              "  // to uploadFilesContinue from Python.\n",
              "  outputElement.steps = steps;\n",
              "\n",
              "  return _uploadFilesContinue(outputId);\n",
              "}\n",
              "\n",
              "// This is roughly an async generator (not supported in the browser yet),\n",
              "// where there are multiple asynchronous steps and the Python side is going\n",
              "// to poll for completion of each step.\n",
              "// This uses a Promise to block the python side on completion of each step,\n",
              "// then passes the result of the previous step as the input to the next step.\n",
              "function _uploadFilesContinue(outputId) {\n",
              "  const outputElement = document.getElementById(outputId);\n",
              "  const steps = outputElement.steps;\n",
              "\n",
              "  const next = steps.next(outputElement.lastPromiseValue);\n",
              "  return Promise.resolve(next.value.promise).then((value) => {\n",
              "    // Cache the last promise value to make it available to the next\n",
              "    // step of the generator.\n",
              "    outputElement.lastPromiseValue = value;\n",
              "    return next.value.response;\n",
              "  });\n",
              "}\n",
              "\n",
              "/**\n",
              " * Generator function which is called between each async step of the upload\n",
              " * process.\n",
              " * @param {string} inputId Element ID of the input file picker element.\n",
              " * @param {string} outputId Element ID of the output display.\n",
              " * @return {!Iterable<!Object>} Iterable of next steps.\n",
              " */\n",
              "function* uploadFilesStep(inputId, outputId) {\n",
              "  const inputElement = document.getElementById(inputId);\n",
              "  inputElement.disabled = false;\n",
              "\n",
              "  const outputElement = document.getElementById(outputId);\n",
              "  outputElement.innerHTML = '';\n",
              "\n",
              "  const pickedPromise = new Promise((resolve) => {\n",
              "    inputElement.addEventListener('change', (e) => {\n",
              "      resolve(e.target.files);\n",
              "    });\n",
              "  });\n",
              "\n",
              "  const cancel = document.createElement('button');\n",
              "  inputElement.parentElement.appendChild(cancel);\n",
              "  cancel.textContent = 'Cancel upload';\n",
              "  const cancelPromise = new Promise((resolve) => {\n",
              "    cancel.onclick = () => {\n",
              "      resolve(null);\n",
              "    };\n",
              "  });\n",
              "\n",
              "  // Wait for the user to pick the files.\n",
              "  const files = yield {\n",
              "    promise: Promise.race([pickedPromise, cancelPromise]),\n",
              "    response: {\n",
              "      action: 'starting',\n",
              "    }\n",
              "  };\n",
              "\n",
              "  cancel.remove();\n",
              "\n",
              "  // Disable the input element since further picks are not allowed.\n",
              "  inputElement.disabled = true;\n",
              "\n",
              "  if (!files) {\n",
              "    return {\n",
              "      response: {\n",
              "        action: 'complete',\n",
              "      }\n",
              "    };\n",
              "  }\n",
              "\n",
              "  for (const file of files) {\n",
              "    const li = document.createElement('li');\n",
              "    li.append(span(file.name, {fontWeight: 'bold'}));\n",
              "    li.append(span(\n",
              "        `(${file.type || 'n/a'}) - ${file.size} bytes, ` +\n",
              "        `last modified: ${\n",
              "            file.lastModifiedDate ? file.lastModifiedDate.toLocaleDateString() :\n",
              "                                    'n/a'} - `));\n",
              "    const percent = span('0% done');\n",
              "    li.appendChild(percent);\n",
              "\n",
              "    outputElement.appendChild(li);\n",
              "\n",
              "    const fileDataPromise = new Promise((resolve) => {\n",
              "      const reader = new FileReader();\n",
              "      reader.onload = (e) => {\n",
              "        resolve(e.target.result);\n",
              "      };\n",
              "      reader.readAsArrayBuffer(file);\n",
              "    });\n",
              "    // Wait for the data to be ready.\n",
              "    let fileData = yield {\n",
              "      promise: fileDataPromise,\n",
              "      response: {\n",
              "        action: 'continue',\n",
              "      }\n",
              "    };\n",
              "\n",
              "    // Use a chunked sending to avoid message size limits. See b/62115660.\n",
              "    let position = 0;\n",
              "    do {\n",
              "      const length = Math.min(fileData.byteLength - position, MAX_PAYLOAD_SIZE);\n",
              "      const chunk = new Uint8Array(fileData, position, length);\n",
              "      position += length;\n",
              "\n",
              "      const base64 = btoa(String.fromCharCode.apply(null, chunk));\n",
              "      yield {\n",
              "        response: {\n",
              "          action: 'append',\n",
              "          file: file.name,\n",
              "          data: base64,\n",
              "        },\n",
              "      };\n",
              "\n",
              "      let percentDone = fileData.byteLength === 0 ?\n",
              "          100 :\n",
              "          Math.round((position / fileData.byteLength) * 100);\n",
              "      percent.textContent = `${percentDone}% done`;\n",
              "\n",
              "    } while (position < fileData.byteLength);\n",
              "  }\n",
              "\n",
              "  // All done.\n",
              "  yield {\n",
              "    response: {\n",
              "      action: 'complete',\n",
              "    }\n",
              "  };\n",
              "}\n",
              "\n",
              "scope.google = scope.google || {};\n",
              "scope.google.colab = scope.google.colab || {};\n",
              "scope.google.colab._files = {\n",
              "  _uploadFiles,\n",
              "  _uploadFilesContinue,\n",
              "};\n",
              "})(self);\n",
              "</script> "
            ]
          },
          "metadata": {}
        },
        {
          "output_type": "stream",
          "name": "stdout",
          "text": [
            "Saving dados_petrobras.csv to dados_petrobras (8).csv\n"
          ]
        },
        {
          "output_type": "display_data",
          "data": {
            "text/plain": [
              "<IPython.core.display.Javascript object>"
            ],
            "application/javascript": [
              "\n",
              "    async function download(id, filename, size) {\n",
              "      if (!google.colab.kernel.accessAllowed) {\n",
              "        return;\n",
              "      }\n",
              "      const div = document.createElement('div');\n",
              "      const label = document.createElement('label');\n",
              "      label.textContent = `Downloading \"${filename}\": `;\n",
              "      div.appendChild(label);\n",
              "      const progress = document.createElement('progress');\n",
              "      progress.max = size;\n",
              "      div.appendChild(progress);\n",
              "      document.body.appendChild(div);\n",
              "\n",
              "      const buffers = [];\n",
              "      let downloaded = 0;\n",
              "\n",
              "      const channel = await google.colab.kernel.comms.open(id);\n",
              "      // Send a message to notify the kernel that we're ready.\n",
              "      channel.send({})\n",
              "\n",
              "      for await (const message of channel.messages) {\n",
              "        // Send a message to notify the kernel that we're ready.\n",
              "        channel.send({})\n",
              "        if (message.buffers) {\n",
              "          for (const buffer of message.buffers) {\n",
              "            buffers.push(buffer);\n",
              "            downloaded += buffer.byteLength;\n",
              "            progress.value = downloaded;\n",
              "          }\n",
              "        }\n",
              "      }\n",
              "      const blob = new Blob(buffers, {type: 'application/binary'});\n",
              "      const a = document.createElement('a');\n",
              "      a.href = window.URL.createObjectURL(blob);\n",
              "      a.download = filename;\n",
              "      div.appendChild(a);\n",
              "      a.click();\n",
              "      div.remove();\n",
              "    }\n",
              "  "
            ]
          },
          "metadata": {}
        },
        {
          "output_type": "display_data",
          "data": {
            "text/plain": [
              "<IPython.core.display.Javascript object>"
            ],
            "application/javascript": [
              "download(\"download_1ac9c21d-aae3-40ed-974d-83a6ca220cee\", \"sqlite\", 8192)"
            ]
          },
          "metadata": {}
        }
      ]
    }
  ]
}